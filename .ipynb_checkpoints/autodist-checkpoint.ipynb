{
 "cells": [
  {
   "cell_type": "code",
   "execution_count": 1,
   "metadata": {},
   "outputs": [
    {
     "name": "stdout",
     "output_type": "stream",
     "text": [
      "WARNING:tensorflow:From <ipython-input-1-844699121cc6>:8: read_data_sets (from tensorflow.contrib.learn.python.learn.datasets.mnist) is deprecated and will be removed in a future version.\n",
      "Instructions for updating:\n",
      "Please use alternatives such as official/mnist/dataset.py from tensorflow/models.\n",
      "WARNING:tensorflow:From /usr/local/lib/python3.7/site-packages/tensorflow_core/contrib/learn/python/learn/datasets/mnist.py:260: maybe_download (from tensorflow.contrib.learn.python.learn.datasets.base) is deprecated and will be removed in a future version.\n",
      "Instructions for updating:\n",
      "Please write your own downloading logic.\n",
      "WARNING:tensorflow:From /usr/local/lib/python3.7/site-packages/tensorflow_core/contrib/learn/python/learn/datasets/mnist.py:262: extract_images (from tensorflow.contrib.learn.python.learn.datasets.mnist) is deprecated and will be removed in a future version.\n",
      "Instructions for updating:\n",
      "Please use tf.data to implement this functionality.\n",
      "Extracting ../MNIST_data/train-images-idx3-ubyte.gz\n",
      "WARNING:tensorflow:From /usr/local/lib/python3.7/site-packages/tensorflow_core/contrib/learn/python/learn/datasets/mnist.py:267: extract_labels (from tensorflow.contrib.learn.python.learn.datasets.mnist) is deprecated and will be removed in a future version.\n",
      "Instructions for updating:\n",
      "Please use tf.data to implement this functionality.\n",
      "Extracting ../MNIST_data/train-labels-idx1-ubyte.gz\n",
      "WARNING:tensorflow:From /usr/local/lib/python3.7/site-packages/tensorflow_core/contrib/learn/python/learn/datasets/mnist.py:110: dense_to_one_hot (from tensorflow.contrib.learn.python.learn.datasets.mnist) is deprecated and will be removed in a future version.\n",
      "Instructions for updating:\n",
      "Please use tf.one_hot on tensors.\n",
      "Extracting ../MNIST_data/t10k-images-idx3-ubyte.gz\n",
      "Extracting ../MNIST_data/t10k-labels-idx1-ubyte.gz\n",
      "WARNING:tensorflow:From /usr/local/lib/python3.7/site-packages/tensorflow_core/contrib/learn/python/learn/datasets/mnist.py:290: DataSet.__init__ (from tensorflow.contrib.learn.python.learn.datasets.mnist) is deprecated and will be removed in a future version.\n",
      "Instructions for updating:\n",
      "Please use alternatives such as official/mnist/dataset.py from tensorflow/models.\n"
     ]
    }
   ],
   "source": [
    "import os\n",
    "import sys\n",
    "import time\n",
    "import numpy as np\n",
    "import types\n",
    "import tensorflow as tf\n",
    "from tensorflow.examples.tutorials.mnist import input_data\n",
    "mnist = input_data.read_data_sets(\"../MNIST_data/\", one_hot=True)"
   ]
  },
  {
   "cell_type": "code",
   "execution_count": 3,
   "metadata": {},
   "outputs": [],
   "source": [
    "def expert(i, x, hparams):\n",
    "    with tf.compat.v1.variable_scope(\"expert\"):\n",
    "        sizes = [hparams.n_inputs] + [hparams.e_hidden for _ in range(hparams.e_layers)] + [hparams.e_output]\n",
    "        for i in range(len(sizes) - 1):\n",
    "            w = tf.Variable(tf.truncated_normal([sizes[i], sizes[i+1]], stddev=0.1))\n",
    "            b = tf.Variable(tf.constant(0.1, shape=[sizes[i+1]]))\n",
    "            x = tf.matmul(x, w) + b\n",
    "    return x\n",
    "\n",
    "def student(x, hparams):\n",
    "    with tf.compat.v1.variable_scope(\"student\"):\n",
    "        sizes = [hparams.n_inputs] +[hparams.s_hidden for _ in range(hparams.s_layers)] + [hparams.n_embedding]\n",
    "        for i in range(len(sizes) - 1):\n",
    "            w = tf.Variable(tf.truncated_normal([sizes[i], sizes[i+1]], stddev=0.1))\n",
    "            b = tf.Variable(tf.constant(0.1, shape=[sizes[i+1]]))\n",
    "            x = tf.matmul(x, w) + b\n",
    "    return x"
   ]
  },
  {
   "cell_type": "code",
   "execution_count": 4,
   "metadata": {},
   "outputs": [],
   "source": [
    "def encoder(expert_concat, hparams):\n",
    "    with tf.compat.v1.variable_scope(\"encoder\"):\n",
    "        w1 = tf.Variable(tf.truncated_normal([hparams.e_output * hparams.n_experts, hparams.n_embedding], stddev=0.1), name='w')\n",
    "        b1 = tf.Variable(tf.constant(0.1, shape=[hparams.n_embedding]), name='b')\n",
    "        return tf.matmul(expert_concat, w1) + b1\n",
    "                         \n",
    "def decoder(embedding, hparams):\n",
    "    with tf.compat.v1.variable_scope(\"decoder\"):\n",
    "        w1 = tf.Variable(tf.truncated_normal([hparams.n_embedding, hparams.e_output * hparams.n_experts], stddev=0.1), name='w')\n",
    "        b1 = tf.Variable(tf.constant(0.1, shape=[hparams.e_output * hparams.n_experts]), name='b')\n",
    "        return tf.matmul(embedding, w1) + b1"
   ]
  },
  {
   "cell_type": "code",
   "execution_count": 13,
   "metadata": {},
   "outputs": [],
   "source": [
    "\n",
    "def distillation_loss(student, embedding, hparams):\n",
    "    with tf.compat.v1.variable_scope(\"distillation_loss\"):\n",
    "        distillation_loss = tf.reduce_mean(\n",
    "            tf.nn.l2_loss(tf.stop_gradient(embedding) - student))\n",
    "        return distillation_loss\n",
    "    \n",
    "def autoencoder_loss(decoded_output, expert_concat, hparams):\n",
    "    with tf.compat.v1.variable_scope(\"autoencoder_loss\"):\n",
    "        distillation_loss = tf.reduce_mean(\n",
    "            tf.nn.l2_loss(tf.stop_gradient(expert_concat) - decoded_output))\n",
    "    return distillation_loss\n",
    "\n",
    "def target_loss(embedding, targets, hparams):\n",
    "    with tf.compat.v1.variable_scope(\"target_loss\"):\n",
    "        w = tf.Variable(tf.truncated_normal([hparams.n_embedding, hparams.n_targets], stddev=0.1))\n",
    "        b = tf.Variable(tf.constant(0.1, shape=[hparams.n_targets])),\n",
    "        logits = tf.add(tf.matmul(embedding, w), b)\n",
    "        target_loss = tf.reduce_mean(tf.nn.softmax_cross_entropy_with_logits_v2(labels=targets, logits=logits))\n",
    "        correct = tf.equal(tf.argmax(logits, 1), tf.argmax(targets, 1))\n",
    "        accuracy = tf.reduce_mean(tf.cast(correct, tf.float32))\n",
    "        return target_loss, accuracy"
   ]
  },
  {
   "cell_type": "code",
   "execution_count": 14,
   "metadata": {},
   "outputs": [],
   "source": [
    "\n",
    "def model_fn(hparams):    \n",
    "    x_inputs = tf.placeholder(\"float\", [None, hparams.n_inputs], 'inputs')\n",
    "    y_targets = tf.placeholder(\"float\", [None, hparams.n_targets], 'targets')\n",
    "\n",
    "    experts = []\n",
    "    for ei in range(hparams.n_experts):\n",
    "        expert_output = expert(ei, x_inputs, hparams)\n",
    "        experts.append(expert_output)\n",
    "    expert_concat = tf.concat(experts, axis = 1)\n",
    "    \n",
    "    embedding = encoder(expert_concat, hparams)\n",
    "\n",
    "    student_output = student(x_inputs, hparams)\n",
    "\n",
    "    decoded_output = decoder(embedding, hparams)\n",
    "    \n",
    "    dist_loss = distillation_loss(student_output, embedding, hparams)\n",
    "    \n",
    "    auto_loss = autoencoder_loss(decoded_output, expert_concat, hparams)\n",
    "    \n",
    "    student_loss, student_accuracy = target_loss(student_output, y_targets, hparams)\n",
    "    \n",
    "    teacher_loss, teacher_accuracy = target_loss(embedding, y_targets, hparams)\n",
    "    \n",
    "    full_loss = dist_loss + auto_loss + student_loss + teacher_loss\n",
    "    \n",
    "    train_step = tf.train.AdamOptimizer(hparams.learning_rate).minimize(full_loss)\n",
    "\n",
    "    metrics = {\n",
    "        'teacher_loss': teacher_loss,\n",
    "        'student_loss': student_loss,\n",
    "        'dist_loss': dist_loss,\n",
    "        'auto_loss': auto_loss,\n",
    "        'full_loss': full_loss,\n",
    "        'student_accuracy': student_accuracy,\n",
    "        'teacher_accuracy': teacher_accuracy,\n",
    "    }\n",
    "    \n",
    "    return train_step, metrics"
   ]
  },
  {
   "cell_type": "code",
   "execution_count": 19,
   "metadata": {},
   "outputs": [
    {
     "name": "stdout",
     "output_type": "stream",
     "text": [
      "teacher_loss: 4.1253495\n",
      "student_loss: 4.3813286\n",
      "dist_loss: 98745.875\n",
      "auto_loss: 90817.234\n",
      "full_loss: 189571.61\n",
      "student_accuracy: 0.140625\n",
      "teacher_accuracy: 0.1171875\n",
      "\n"
     ]
    }
   ],
   "source": [
    "hparams = types.SimpleNamespace(\n",
    "    batch_size=128,\n",
    "    learning_rate=1e-6,\n",
    "    n_iterations = 200,\n",
    "    n_inputs = 784,\n",
    "    n_targets = 10,\n",
    "    n_experts = 3,\n",
    "    n_print = 1000,\n",
    "    e_layers = 2,\n",
    "    s_layers = 2,\n",
    "    e_hidden = 256,\n",
    "    s_hidden = 256,\n",
    "    e_output = 50,\n",
    "    n_embedding = 256,\n",
    ")\n",
    "\n",
    "graph = tf.Graph()\n",
    "session = tf.Session(graph=graph)\n",
    "with graph.as_default():\n",
    "    train_step, metrics = model_fn(hparams)\n",
    "    session.run(tf.global_variables_initializer())\n",
    "\n",
    "    \n",
    "for i in range(hparams.n_iterations):\n",
    "    batch_x, batch_y = mnist.train.next_batch(hparams.batch_size)\n",
    "    feeds = {'inputs:0': batch_x, 'targets:0': batch_y}\n",
    "    session.run(train_step, feeds)\n",
    "\n",
    "    if i % hparams.n_print == 0:\n",
    "        feeds = {'inputs:0': batch_x, 'targets:0': batch_y}\n",
    "        train_metrics = session.run(metrics, feeds)\n",
    "        for key in train_metrics:\n",
    "            print (key + ': ' + str(train_metrics[key]))\n",
    "        print ('')\n"
   ]
  },
  {
   "cell_type": "code",
   "execution_count": null,
   "metadata": {},
   "outputs": [],
   "source": []
  },
  {
   "cell_type": "code",
   "execution_count": null,
   "metadata": {},
   "outputs": [],
   "source": []
  }
 ],
 "metadata": {
  "kernelspec": {
   "display_name": "Python 3",
   "language": "python",
   "name": "python3"
  },
  "language_info": {
   "codemirror_mode": {
    "name": "ipython",
    "version": 3
   },
   "file_extension": ".py",
   "mimetype": "text/x-python",
   "name": "python",
   "nbconvert_exporter": "python",
   "pygments_lexer": "ipython3",
   "version": "3.7.5"
  }
 },
 "nbformat": 4,
 "nbformat_minor": 2
}
